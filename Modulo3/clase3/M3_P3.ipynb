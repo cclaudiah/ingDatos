{
  "nbformat": 4,
  "nbformat_minor": 0,
  "metadata": {
    "colab": {
      "provenance": []
    },
    "kernelspec": {
      "name": "python3",
      "display_name": "Python 3"
    },
    "language_info": {
      "name": "python"
    }
  },
  "cells": [
    {
      "cell_type": "code",
      "source": [
        "import pandas as pd\n",
        "import matplotlib.pyplot as plt\n",
        "import seaborn as sns\n",
        "import os"
      ],
      "metadata": {
        "id": "jSMK66JfiQft"
      },
      "execution_count": 18,
      "outputs": []
    },
    {
      "cell_type": "markdown",
      "source": [
        "1. Recorre todos los archivos CSV de un directorio y concatena su contenido en un solo DataFrame."
      ],
      "metadata": {
        "id": "YF4TGn-0pAPS"
      }
    },
    {
      "cell_type": "code",
      "source": [
        "from google.colab import files\n",
        "\n",
        "# Selecciona y sube los archivos CSV desde tu computadora\n",
        "uploaded = files.upload()"
      ],
      "metadata": {
        "id": "m_e52zPL-p-A",
        "colab": {
          "base_uri": "https://localhost:8080/",
          "height": 177
        },
        "outputId": "7484aae7-a295-4e61-cdef-6c63cae4930c"
      },
      "execution_count": 19,
      "outputs": [
        {
          "output_type": "display_data",
          "data": {
            "text/plain": [
              "<IPython.core.display.HTML object>"
            ],
            "text/html": [
              "\n",
              "     <input type=\"file\" id=\"files-472c0bdb-da64-4998-9a69-f62cf765a12e\" name=\"files[]\" multiple disabled\n",
              "        style=\"border:none\" />\n",
              "     <output id=\"result-472c0bdb-da64-4998-9a69-f62cf765a12e\">\n",
              "      Upload widget is only available when the cell has been executed in the\n",
              "      current browser session. Please rerun this cell to enable.\n",
              "      </output>\n",
              "      <script>// Copyright 2017 Google LLC\n",
              "//\n",
              "// Licensed under the Apache License, Version 2.0 (the \"License\");\n",
              "// you may not use this file except in compliance with the License.\n",
              "// You may obtain a copy of the License at\n",
              "//\n",
              "//      http://www.apache.org/licenses/LICENSE-2.0\n",
              "//\n",
              "// Unless required by applicable law or agreed to in writing, software\n",
              "// distributed under the License is distributed on an \"AS IS\" BASIS,\n",
              "// WITHOUT WARRANTIES OR CONDITIONS OF ANY KIND, either express or implied.\n",
              "// See the License for the specific language governing permissions and\n",
              "// limitations under the License.\n",
              "\n",
              "/**\n",
              " * @fileoverview Helpers for google.colab Python module.\n",
              " */\n",
              "(function(scope) {\n",
              "function span(text, styleAttributes = {}) {\n",
              "  const element = document.createElement('span');\n",
              "  element.textContent = text;\n",
              "  for (const key of Object.keys(styleAttributes)) {\n",
              "    element.style[key] = styleAttributes[key];\n",
              "  }\n",
              "  return element;\n",
              "}\n",
              "\n",
              "// Max number of bytes which will be uploaded at a time.\n",
              "const MAX_PAYLOAD_SIZE = 100 * 1024;\n",
              "\n",
              "function _uploadFiles(inputId, outputId) {\n",
              "  const steps = uploadFilesStep(inputId, outputId);\n",
              "  const outputElement = document.getElementById(outputId);\n",
              "  // Cache steps on the outputElement to make it available for the next call\n",
              "  // to uploadFilesContinue from Python.\n",
              "  outputElement.steps = steps;\n",
              "\n",
              "  return _uploadFilesContinue(outputId);\n",
              "}\n",
              "\n",
              "// This is roughly an async generator (not supported in the browser yet),\n",
              "// where there are multiple asynchronous steps and the Python side is going\n",
              "// to poll for completion of each step.\n",
              "// This uses a Promise to block the python side on completion of each step,\n",
              "// then passes the result of the previous step as the input to the next step.\n",
              "function _uploadFilesContinue(outputId) {\n",
              "  const outputElement = document.getElementById(outputId);\n",
              "  const steps = outputElement.steps;\n",
              "\n",
              "  const next = steps.next(outputElement.lastPromiseValue);\n",
              "  return Promise.resolve(next.value.promise).then((value) => {\n",
              "    // Cache the last promise value to make it available to the next\n",
              "    // step of the generator.\n",
              "    outputElement.lastPromiseValue = value;\n",
              "    return next.value.response;\n",
              "  });\n",
              "}\n",
              "\n",
              "/**\n",
              " * Generator function which is called between each async step of the upload\n",
              " * process.\n",
              " * @param {string} inputId Element ID of the input file picker element.\n",
              " * @param {string} outputId Element ID of the output display.\n",
              " * @return {!Iterable<!Object>} Iterable of next steps.\n",
              " */\n",
              "function* uploadFilesStep(inputId, outputId) {\n",
              "  const inputElement = document.getElementById(inputId);\n",
              "  inputElement.disabled = false;\n",
              "\n",
              "  const outputElement = document.getElementById(outputId);\n",
              "  outputElement.innerHTML = '';\n",
              "\n",
              "  const pickedPromise = new Promise((resolve) => {\n",
              "    inputElement.addEventListener('change', (e) => {\n",
              "      resolve(e.target.files);\n",
              "    });\n",
              "  });\n",
              "\n",
              "  const cancel = document.createElement('button');\n",
              "  inputElement.parentElement.appendChild(cancel);\n",
              "  cancel.textContent = 'Cancel upload';\n",
              "  const cancelPromise = new Promise((resolve) => {\n",
              "    cancel.onclick = () => {\n",
              "      resolve(null);\n",
              "    };\n",
              "  });\n",
              "\n",
              "  // Wait for the user to pick the files.\n",
              "  const files = yield {\n",
              "    promise: Promise.race([pickedPromise, cancelPromise]),\n",
              "    response: {\n",
              "      action: 'starting',\n",
              "    }\n",
              "  };\n",
              "\n",
              "  cancel.remove();\n",
              "\n",
              "  // Disable the input element since further picks are not allowed.\n",
              "  inputElement.disabled = true;\n",
              "\n",
              "  if (!files) {\n",
              "    return {\n",
              "      response: {\n",
              "        action: 'complete',\n",
              "      }\n",
              "    };\n",
              "  }\n",
              "\n",
              "  for (const file of files) {\n",
              "    const li = document.createElement('li');\n",
              "    li.append(span(file.name, {fontWeight: 'bold'}));\n",
              "    li.append(span(\n",
              "        `(${file.type || 'n/a'}) - ${file.size} bytes, ` +\n",
              "        `last modified: ${\n",
              "            file.lastModifiedDate ? file.lastModifiedDate.toLocaleDateString() :\n",
              "                                    'n/a'} - `));\n",
              "    const percent = span('0% done');\n",
              "    li.appendChild(percent);\n",
              "\n",
              "    outputElement.appendChild(li);\n",
              "\n",
              "    const fileDataPromise = new Promise((resolve) => {\n",
              "      const reader = new FileReader();\n",
              "      reader.onload = (e) => {\n",
              "        resolve(e.target.result);\n",
              "      };\n",
              "      reader.readAsArrayBuffer(file);\n",
              "    });\n",
              "    // Wait for the data to be ready.\n",
              "    let fileData = yield {\n",
              "      promise: fileDataPromise,\n",
              "      response: {\n",
              "        action: 'continue',\n",
              "      }\n",
              "    };\n",
              "\n",
              "    // Use a chunked sending to avoid message size limits. See b/62115660.\n",
              "    let position = 0;\n",
              "    do {\n",
              "      const length = Math.min(fileData.byteLength - position, MAX_PAYLOAD_SIZE);\n",
              "      const chunk = new Uint8Array(fileData, position, length);\n",
              "      position += length;\n",
              "\n",
              "      const base64 = btoa(String.fromCharCode.apply(null, chunk));\n",
              "      yield {\n",
              "        response: {\n",
              "          action: 'append',\n",
              "          file: file.name,\n",
              "          data: base64,\n",
              "        },\n",
              "      };\n",
              "\n",
              "      let percentDone = fileData.byteLength === 0 ?\n",
              "          100 :\n",
              "          Math.round((position / fileData.byteLength) * 100);\n",
              "      percent.textContent = `${percentDone}% done`;\n",
              "\n",
              "    } while (position < fileData.byteLength);\n",
              "  }\n",
              "\n",
              "  // All done.\n",
              "  yield {\n",
              "    response: {\n",
              "      action: 'complete',\n",
              "    }\n",
              "  };\n",
              "}\n",
              "\n",
              "scope.google = scope.google || {};\n",
              "scope.google.colab = scope.google.colab || {};\n",
              "scope.google.colab._files = {\n",
              "  _uploadFiles,\n",
              "  _uploadFilesContinue,\n",
              "};\n",
              "})(self);\n",
              "</script> "
            ]
          },
          "metadata": {}
        },
        {
          "output_type": "stream",
          "name": "stdout",
          "text": [
            "Saving datos_alumnos.csv to datos_alumnos (2).csv\n",
            "Saving datos_alumnos2.csv to datos_alumnos2 (2).csv\n",
            "Saving libro_alumnos_1.xlsx to libro_alumnos_1 (2).xlsx\n",
            "Saving libro_alumnos_2.xlsx to libro_alumnos_2 (2).xlsx\n"
          ]
        }
      ]
    },
    {
      "cell_type": "code",
      "source": [
        "def leer_csv_robusto(filepath):\n",
        "    try:\n",
        "        return pd.read_csv(filepath, encoding='utf-8')\n",
        "    except UnicodeDecodeError:\n",
        "        return pd.read_csv(filepath, encoding='latin1')\n",
        "\n",
        "# Filtrar solo los archivos CSV subidos\n",
        "csv_files = [filename for filename in uploaded.keys() if filename.endswith('.csv')]\n",
        "\n",
        "# Leer y concatenar todos los CSV en un solo DataFrame\n",
        "df_csv = pd.concat([leer_csv_robusto(f) for f in csv_files], ignore_index=True)\n",
        "\n",
        "print(\"DataFrame concatenado de CSVs:\")\n",
        "print(df_csv.head())"
      ],
      "metadata": {
        "id": "fyNJkpYuAYF_",
        "colab": {
          "base_uri": "https://localhost:8080/"
        },
        "outputId": "c2492562-574d-4c84-9119-2644bcb4d562"
      },
      "execution_count": 20,
      "outputs": [
        {
          "output_type": "stream",
          "name": "stdout",
          "text": [
            "DataFrame concatenado de CSVs:\n",
            "  ID_Alumno         Nombre  Edad    Ciudad      Materia  Nota_Final\n",
            "0     A1000   Pedro Torres    16    Madrid       Lengua         9.3\n",
            "1     A1001    Miguel Vega    15  Valencia  Matemáticas         4.6\n",
            "2     A1002    Ana Sánchez    18    Bilbao       Inglés         5.2\n",
            "3     A1003  Pedro Sánchez    15    Madrid       Lengua         6.6\n",
            "4     A1004  Elena Sánchez    18    Madrid       Inglés         8.4\n"
          ]
        }
      ]
    },
    {
      "cell_type": "markdown",
      "source": [
        "2. Recorre todos los archivos Excel (.xls, .xlsx) del mismo directorio, leyendo la hoja principal de cada uno y concatenando los datos en otro DataFrame."
      ],
      "metadata": {
        "id": "r4JPTJy4rA-4"
      }
    },
    {
      "cell_type": "code",
      "source": [
        "# Filtrar solo los archivos Excel subidos (.xls y .xlsx)\n",
        "excel_files = [filename for filename in uploaded.keys() if filename.endswith('.xls') or filename.endswith('.xlsx')]\n",
        "\n",
        "# Leer y concatenar la hoja principal de cada archivo Excel en un solo DataFrame\n",
        "df_excel = pd.concat([pd.read_excel(f) for f in excel_files], ignore_index=True)\n",
        "\n",
        "print(\"DataFrame concatenado de Excels:\")\n",
        "print(df_excel.head())"
      ],
      "metadata": {
        "id": "ekMXyXhZBBjH",
        "colab": {
          "base_uri": "https://localhost:8080/"
        },
        "outputId": "c5bdb107-04ba-412c-e00c-ef0405ae26c5"
      },
      "execution_count": 21,
      "outputs": [
        {
          "output_type": "stream",
          "name": "stdout",
          "text": [
            "DataFrame concatenado de Excels:\n",
            "  ID_Alumno           Nombre  Edad     Ciudad Materia  Nota_Final\n",
            "0     C3000       Luis Gomez    17     Bilbao  Ingles         5.4\n",
            "1     C3001       Sofia Vega    14     Madrid  Ingles         5.2\n",
            "2     C3002     Juan Sanchez    18  Barcelona  Lengua         9.3\n",
            "3     C3003      Ana Sanchez    17  Barcelona  Lengua         8.0\n",
            "4     C3004  Pedro Rodriguez    17   Valencia  Lengua         6.6\n"
          ]
        }
      ]
    },
    {
      "cell_type": "markdown",
      "source": [
        "3. Integra ambos DataFrames (CSV y Excel) en un solo DataFrame global."
      ],
      "metadata": {
        "id": "8izHarn7rS5Q"
      }
    },
    {
      "cell_type": "code",
      "source": [
        "# -----------------------------\n",
        "# 3. Integrar ambos en un DataFrame global\n",
        "# -----------------------------\n",
        "df_global = pd.concat([df_csv, df_excel], ignore_index=True)\n",
        "\n",
        "# Mostrar muestra del DataFrame final\n",
        "print(\"DataFrame GLOBAL (CSV + Excel):\")\n",
        "print(df_global.head())\n",
        "\n",
        "# -----------------------------\n",
        "# Guardar como archivo combinado\n",
        "# -----------------------------\n",
        "archivo_global = os.path.join('.', 'dataframe_global.xlsx')\n",
        "df_global.to_excel(archivo_global, index=False)\n",
        "print(f\"Data Frame global generado: {archivo_global}\")"
      ],
      "metadata": {
        "id": "VDLsfSgZkslw",
        "colab": {
          "base_uri": "https://localhost:8080/"
        },
        "outputId": "3be55c55-82b3-4223-8dae-e5ade044413f"
      },
      "execution_count": 22,
      "outputs": [
        {
          "output_type": "stream",
          "name": "stdout",
          "text": [
            "DataFrame GLOBAL (CSV + Excel):\n",
            "  ID_Alumno         Nombre  Edad    Ciudad      Materia  Nota_Final\n",
            "0     A1000   Pedro Torres    16    Madrid       Lengua         9.3\n",
            "1     A1001    Miguel Vega    15  Valencia  Matemáticas         4.6\n",
            "2     A1002    Ana Sánchez    18    Bilbao       Inglés         5.2\n",
            "3     A1003  Pedro Sánchez    15    Madrid       Lengua         6.6\n",
            "4     A1004  Elena Sánchez    18    Madrid       Inglés         8.4\n",
            "Data Frame global generado: ./dataframe_global.xlsx\n"
          ]
        }
      ]
    },
    {
      "cell_type": "markdown",
      "source": [
        "4.Extrae una tabla de la web (por ejemplo, la tabla de países por población de Wikipedia) usando pd.read_html().\n",
        "Agrega esta tabla como una hoja adicional en el archivo Excel final."
      ],
      "metadata": {
        "id": "0jDenSWQriWf"
      }
    },
    {
      "cell_type": "code",
      "source": [
        "# -----------------------------\n",
        "# 4. Extrae una tabla de la web (por ejemplo, la tabla de países por población de Wikipedia) usando pd.read_html().\n",
        "# Agrega esta tabla como una hoja adicional en el archivo Excel final.\n",
        "# -----------------------------\n",
        "\n",
        "url = \"https://es.wikipedia.org/wiki/Anexo:Pa%C3%ADses_y_territorios_dependientes_por_poblaci%C3%B3n\"\n",
        "tablas = pd.read_html(url)\n",
        "tabla_paises = tablas[0]\n",
        "\n",
        "# Guardar como Excel\n",
        "with pd.ExcelWriter(\"dataframe_global.xlsx\", engine='openpyxl', mode='a') as writer:\n",
        "    tabla_paises.to_excel(writer, sheet_name='Paises_Poblacion', index=False)"
      ],
      "metadata": {
        "id": "KrrrKnqQlhOY"
      },
      "execution_count": 23,
      "outputs": []
    },
    {
      "cell_type": "markdown",
      "source": [
        "5. Genera una hoja resumen con estadísticas descriptivas básicas (describe()) del DataFrame global"
      ],
      "metadata": {
        "id": "DZvCZGn3r1v2"
      }
    },
    {
      "cell_type": "code",
      "source": [
        "# 5. Genera una hoja resumen con estadísticas descriptivas básicas (describe()) del DataFrame global.\n",
        "\n",
        "# Generar estadísticas descriptivas\n",
        "estadisticas_global = df_global.describe(include='all') # include='all' para incluir columnas no numéricas\n",
        "\n",
        "# Guardar las estadísticas en una nueva hoja en el mismo archivo Excel\n",
        "with pd.ExcelWriter(\"dataframe_global.xlsx\", engine='openpyxl', mode='a') as writer:\n",
        "    estadisticas_global.to_excel(writer, sheet_name='Estadisticas_Global')\n",
        "\n",
        "print(\"Hoja 'Estadisticas_Global' agregada al archivo Excel.\")"
      ],
      "metadata": {
        "id": "BFMU9yg2JouN",
        "colab": {
          "base_uri": "https://localhost:8080/"
        },
        "outputId": "9ab2a672-91fd-460b-8686-c85b9af5e417"
      },
      "execution_count": 24,
      "outputs": [
        {
          "output_type": "stream",
          "name": "stdout",
          "text": [
            "Hoja 'Estadisticas_Global' agregada al archivo Excel.\n"
          ]
        }
      ]
    },
    {
      "cell_type": "code",
      "metadata": {
        "id": "9e6ad2c1",
        "colab": {
          "base_uri": "https://localhost:8080/",
          "height": 958
        },
        "outputId": "223c3be3-32bc-48aa-ba3d-cb520c17907f"
      },
      "source": [
        "#Adicional complementario\n",
        "# Seleccionar columnas numéricas para histogramas\n",
        "columnas_numericas = ['Edad', 'Nota_Final']\n",
        "\n",
        "# Crear histogramas para cada columna numérica\n",
        "for col in columnas_numericas:\n",
        "    plt.figure(figsize=(8, 5))\n",
        "    sns.histplot(data=df_global, x=col, kde=True)\n",
        "    plt.title(f'Distribución de {col}')\n",
        "    plt.xlabel(col)\n",
        "    plt.ylabel('Frecuencia')\n",
        "    plt.show()"
      ],
      "execution_count": 25,
      "outputs": [
        {
          "output_type": "display_data",
          "data": {
            "text/plain": [
              "<Figure size 800x500 with 1 Axes>"
            ],
            "image/png": "[encoded data removed]"
          },
          "metadata": {}
        },
        {
          "output_type": "display_data",
          "data": {
            "text/plain": [
              "<Figure size 800x500 with 1 Axes>"
            ],
            "image/png": "[encoded data removed]"
          },
          "metadata": {}
        }
      ]
    },
    {
      "cell_type": "markdown",
      "source": [
        " 6. Exporta los resultados a un archivo Excel llamado consolidado_resultados.xlsx con al menos las siguientes hojas:\n",
        "\n",
        " • \"Datos_CSV\"\n",
        "\n",
        " • \"Datos_Excel\"\n",
        "\n",
        " • \"Resumen\"\n",
        "\n",
        " • \"Web\""
      ],
      "metadata": {
        "id": "63qzh2gBsMdh"
      }
    },
    {
      "cell_type": "code",
      "source": [
        "# 6 \"Datos_CSV\", \"Datos_Excel\", \"Resumen\", \"Web\"\n",
        "\n",
        "# Define el nombre del archivo Excel de salida\n",
        "output_excel_file = \"consolidado_resultados.xlsx\"\n",
        "\n",
        "# Crea un objeto ExcelWriter para escribir en el archivo\n",
        "# 'replace' mode will overwrite if the file exists, 'a' mode is for appending sheets\n",
        "with pd.ExcelWriter(output_excel_file, engine='openpyxl') as writer:\n",
        "    # Escribe el DataFrame de CSVs en la hoja \"Datos_CSV\"\n",
        "    if 'df_csv' in locals() and not df_csv.empty:\n",
        "        df_csv.to_excel(writer, sheet_name=\"Datos_CSV\", index=False)\n",
        "\n",
        "    # Escribe el DataFrame de Excels en la hoja \"Datos_Excel\"\n",
        "    if 'df_excel' in locals() and not df_excel.empty:\n",
        "        df_excel.to_excel(writer, sheet_name=\"Datos_Excel\", index=False)\n",
        "\n",
        "    # Escribe las estadísticas descriptivas del DataFrame global en la hoja \"Resumen\"\n",
        "    # Ensure df_global exists and is not empty before describing\n",
        "    if 'df_global' in locals() and not df_global.empty:\n",
        "        estadisticas_global = df_global.describe(include='all')\n",
        "        estadisticas_global.to_excel(writer, sheet_name=\"Resumen\")\n",
        "\n",
        "    # Escribe la tabla web en la hoja \"Web\"\n",
        "    # Ensure tabla_paises exists and is not empty\n",
        "    if 'tabla_paises' in locals() and not tabla_paises.empty:\n",
        "        tabla_paises.to_excel(writer, sheet_name=\"Web\", index=False)\n",
        "\n",
        "print(f\"Resultados exportados a '{output_excel_file}' con las hojas: Datos_CSV, Datos_Excel, Resumen, Web\")\n",
        "\n",
        "# Opcional: Descargar el archivo Excel\n",
        "# files.download(output_excel_file)\n"
      ],
      "metadata": {
        "id": "J1u_jXCJhb1t",
        "colab": {
          "base_uri": "https://localhost:8080/"
        },
        "outputId": "b2906c4e-fe7f-4730-91be-ee1a3b6a6e85"
      },
      "execution_count": 26,
      "outputs": [
        {
          "output_type": "stream",
          "name": "stdout",
          "text": [
            "Resultados exportados a 'consolidado_resultados.xlsx' con las hojas: Datos_CSV, Datos_Excel, Resumen, Web\n"
          ]
        }
      ]
    }
  ]
}